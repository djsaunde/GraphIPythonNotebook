{
 "cells": [
  {
   "cell_type": "code",
   "execution_count": 120,
   "metadata": {
    "collapsed": false
   },
   "outputs": [],
   "source": [
    "import random"
   ]
  },
  {
   "cell_type": "markdown",
   "metadata": {},
   "source": [
    "#### We first need classes for representing edges and nodes"
   ]
  },
  {
   "cell_type": "code",
   "execution_count": 275,
   "metadata": {
    "collapsed": false
   },
   "outputs": [],
   "source": [
    "class Node: # a class for representing a node as a single unique integer\n",
    "    \n",
    "    def __init__(self, id):\n",
    "        self.id = id\n",
    "        \n",
    "    def __str__(self):\n",
    "        return str(self.id)\n",
    "        \n",
    "    def __eq__(self, other):\n",
    "        if type(other) == int:\n",
    "            other = Node(other)\n",
    "        return self.id == other.id\n",
    "        \n",
    "class Edge: # a class for representing an edge as a pair of nodes in a graph\n",
    "    \n",
    "    def __init__(self, n1, n2, weight=1):          # initializing the nodes in the edge class\n",
    "        self.n1 = min(n1, n2)                      # the first edge is the minimum of the two input nodes\n",
    "        self.n2 = max(n1, n2)                      # the second edge is the maximum of the two input nodes\n",
    "        self.weight = weight                       # the default argument for weight is 1 (call it the existence weight)\n",
    "        \n",
    "    def __str__(self):                             # turning the Edge object into a string\n",
    "        return '(' + str(self.n1) + ', ' + str(self.n2) + ')'\n",
    "        \n",
    "    def __eq__(self, other):                       # easy to implement equality method between two edges\n",
    "        return self.n1 == other.n1 and self.n2 == other.n2"
   ]
  },
  {
   "cell_type": "code",
   "execution_count": 285,
   "metadata": {
    "collapsed": false
   },
   "outputs": [],
   "source": [
    "class EdgeList: # a simple class for representing a graph as a list of edges\n",
    "    \n",
    "    def __init__(self):                # initialization of the EdgeList class\n",
    "        self.E = []                    # instantiate empty list to hold the edges\n",
    "     \n",
    "    def addEdge(self, edge):           # add an edge to the edge list\n",
    "        self.E.append(edge)\n",
    "        \n",
    "    def isEdge(self, edge):            # does this edge appear in the graph? this naive algorithm takes O(|E|) time\n",
    "        for e in self.E:               # cycle through all of the edges in the edge list\n",
    "            if e == edge:              # check for equality\n",
    "                return True\n",
    "        return False                   # if none of the edges match, it is not contained in the graph\n",
    "    \n",
    "    def getNeighbors(self, node):      # get all nodes adjacent to this node. this algorithm runs in O(|E|) time\n",
    "        neighbors = set()\n",
    "        for edge in self.E:                 # loop through all edges in edge list\n",
    "            if edge.n1 == node:             # if the edge contains the node as an endpoint\n",
    "                neighbors.update([edge.n2.id])     # add it to the set of neighbors\n",
    "            elif edge.n2 == node:\n",
    "                neighbors.update([edge.n1.id])\n",
    "        return neighbors\n",
    "            \n",
    "    def __str__(self):                 # turning an EdgeList object into a string\n",
    "        rep = '['\n",
    "        for edge in self.E[:-1]:\n",
    "            rep += edge.__str__() + ', '\n",
    "        return rep + self.E[-1].__str__() + ']'"
   ]
  },
  {
   "cell_type": "code",
   "execution_count": 286,
   "metadata": {
    "collapsed": false
   },
   "outputs": [],
   "source": [
    "class AdjacencyMatrix:                              # a simple class for representing a graph as a matrix of connection weights\n",
    "    \n",
    "    def __init__(self, V):                          # initialization of the AdjacencyMatrix class\n",
    "        self.matrix = [[0 for d in range(V)] for d in range(V)]\n",
    "        self.V = V                                  # keep track of the dimension of the matrix (number of nodes)\n",
    "        \n",
    "    def addEdge(self, edge):                        # add an edge to the adjacency matrix\n",
    "        self.matrix[edge.n1][edge.n2] = edge.weight\n",
    "        \n",
    "    def isEdge(self, edge):                         # does this edge appear in the graph? this algorithm takes 0(1) time\n",
    "        return self.matrix[edge.n1][edge.n2]        # test for non-zero\n",
    "    \n",
    "    def getNeighbors(self, node):                   # get all nodes adjacent to this node. this algorithm runs in O(|V|) time\n",
    "        neighbors = set()\n",
    "        for i in range(self.V):                          # for every node in the graph\n",
    "            if self.matrix[node][i]:                # test for non-zero neighboring entries\n",
    "                neighbors.update([i])                 # add the node to the graph if it is non-zero\n",
    "        return neighbors\n",
    "    \n",
    "    def __str__(self):                              # turning an AdjacencyMatrix object into a string\n",
    "        rep = ''\n",
    "        for row in self.matrix:\n",
    "            for entry in row:\n",
    "                rep += str(entry) + ' '\n",
    "            rep += '\\n'\n",
    "        return rep"
   ]
  },
  {
   "cell_type": "code",
   "execution_count": 287,
   "metadata": {
    "collapsed": false
   },
   "outputs": [],
   "source": [
    "class AdjacencyList:                                # a simple class for representing a graph as a list of adjancencies\n",
    "    \n",
    "    def __init__(self, V):                          # initialization of the AdjacencyList class\n",
    "        self.V = V\n",
    "        self.adj_list = dict((i, set()) for i in range(V))        \n",
    "        \n",
    "    def addEdge(self, edge):                        # add an edge to the adjacency list\n",
    "        self.adj_list[edge.n1].update(self.n2)   \n",
    "        \n",
    "    def isEdge(self, edge):                         # does this edge appear in the graph? worst case, O(n) time, average case, O(1/|V|)\n",
    "        return edge.n2 in self.adj_list[edge.n1]\n",
    "    \n",
    "    def getNeighbors(self, node):                   # get all nodes adjacent to this node. this algorithm runs in O(1) time\n",
    "        return self.adj_list[node]                  # simply return the set indexed by the passed in node index!\n",
    "    \n",
    "    def __str__(self):                              # turning an AdjacencyList object into a string\n",
    "        rep = ''\n",
    "        for i in range(self.V):\n",
    "            rep += str(i) + ': '\n",
    "            for j in self.adj_list[i][:-1]:\n",
    "                rep += j + ', '\n",
    "            rep += self.adj_list[i][-1]\n",
    "            rep += '\\n'"
   ]
  },
  {
   "cell_type": "code",
   "execution_count": 288,
   "metadata": {
    "collapsed": false
   },
   "outputs": [],
   "source": [
    "class UndirectedGraph: # class for creating undirected graphs of 3 different possible representations\n",
    "\n",
    "    def __init__(self, graph_type, num_V, num_E, V=set(), E=set()):\n",
    "        self.V = V\n",
    "        self.E = E\n",
    "        # randomly initialize an undirected graph with type 'graph_type', number of nodes 'V', number of edges 'E'\n",
    "        if graph_type == 'edgelist':\n",
    "            self.G = EdgeList()\n",
    "        elif graph_type == 'adjacencymatrix':\n",
    "            self.G = AdjacencyMatrix(num_V)\n",
    "        else:\n",
    "            self.G = AdjacencyList(num_V)\n",
    "        if not V: # if no edges, nodes were given in the constructor\n",
    "            # loop through |E| to randomly assign edges on the graph\n",
    "            for i in range(num_E):\n",
    "                n1, n2 = Node(random.randrange(0, num_V)), Node(random.randrange(0, num_V))    # randomly sample two vertices from [0, V-1]\n",
    "                if n1 == n2:                                # if they're equal, decrement the loop and try again\n",
    "                    i = i - 1                               # why? no self-directed edges (trivial)\n",
    "                    continue\n",
    "\n",
    "                edge1, edge2 = Edge(n1, n2), Edge(n2, n1)   # undirected graphs have only symmetric edges\n",
    "                if self.G.isEdge(edge1):                    # if the edge is already in the graph\n",
    "                    i = i - 1                               # we decrement the loop counter and try again\n",
    "                    continue\n",
    "                self.G.addEdge(edge1)                       # so we add both (n1, n2) and (n2, n1) to the representation\n",
    "                self.G.addEdge(edge2)\n",
    "        else: # edges, nodes were given in the constructor\n",
    "            for edge in E: # we loop through each edge \n",
    "                self.G.addEdge(edge) # and add the provided edge to the graph data structure\n",
    "                \n",
    "    def getNeighbors(self, node):                       # method to get neighbors of a node\n",
    "        return self.G.getNeighbors(node)                # call underlying graph representation's implementation\n",
    "        \n",
    "    def DFS(self, start):                               # depth-first search algorithm for undirected graphs\n",
    "        visited = set()                                 # we keep track of which nodes we've visited thus far. no duplicates allowed\n",
    "        stack = [start]                                 # we keep as a stack (implemented as a list) for the LIFO behavior this algorithm requires\n",
    "        while stack:                                    # while this list (stack) is non-empty\n",
    "            node = stack.pop()                          # we pop the topmost element of the list (LIFO)\n",
    "            if node not in visited:                     # if we haven't seen this node before\n",
    "                visited.add(node)                       # add it to the visited list\n",
    "                stack.extend(self.getNeighbors(node) - visited)    # add all unvisited neighboring nodes to the list (stack) \n",
    "        return visited                                  # this return the set of visited nodes after we have emptied the stack\n",
    "    \n",
    "    def BFS(self, start):\n",
    "        pass\n",
    "    \n",
    "    def __str__(self):                                  # turn UndirectedGraph object into a string\n",
    "        return self.G.__str__()                         # call underlying representation's __str__ method"
   ]
  },
  {
   "cell_type": "code",
   "execution_count": 289,
   "metadata": {
    "collapsed": true
   },
   "outputs": [],
   "source": [
    "class DirectedGraph:\n",
    "    # a class for creating directed graphs of 3 different possible representations\n",
    "\n",
    "    def __init__(self, graph_type, num_V, num_E, V=set(), E=set()):\n",
    "        self.V = V\n",
    "        self.E = E\n",
    "        # randomly initialize an undirected graph with type 'graph_type', number of nodes 'V', number of edges 'E'\n",
    "        if graph_type == 'edgelist':\n",
    "            self.G = EdgeList()\n",
    "        elif graph_type == 'adjacencymatrix':\n",
    "            self.G = AdjacencyMatrix(num_V)\n",
    "        else:\n",
    "            self.G = AdjacencyList(num_V)\n",
    "        \n",
    "        for i in range(num_E):\n",
    "            n1, n2 = Node(random.randrange(0, num_V)), Node(random.randrange(0, num_V))    # randomly sample two vertices from [0, V-1]\n",
    "            \n",
    "            edge = Edge(n1, n2)                         # directed graphs don't necessarily have symmetric edges\n",
    "            if self.G.isEdge(edge):                     # if the edge is already in the graph\n",
    "                i = i - 1                               # we decrement the loop counter and try again\n",
    "                continue                                \n",
    "            self.G.addEdge(edge)                        # so we add only (n1, n2) to the representation\n",
    "        \n",
    "    def DFS(self, start):\n",
    "        pass\n",
    "    \n",
    "    def BFS(self, start):\n",
    "        pass"
   ]
  },
  {
   "cell_type": "code",
   "execution_count": 290,
   "metadata": {
    "collapsed": false
   },
   "outputs": [],
   "source": [
    "G = UndirectedGraph('edgelist', 10, 10)"
   ]
  },
  {
   "cell_type": "code",
   "execution_count": 291,
   "metadata": {
    "collapsed": false
   },
   "outputs": [
    {
     "name": "stdout",
     "output_type": "stream",
     "text": [
      "[(5, 6), (5, 6), (3, 1), (3, 1), (0, 6), (0, 6), (2, 4), (2, 4), (2, 9), (2, 9), (9, 2), (9, 2), (5, 3), (5, 3)]\n"
     ]
    }
   ],
   "source": [
    "print G"
   ]
  },
  {
   "cell_type": "code",
   "execution_count": 293,
   "metadata": {
    "collapsed": false
   },
   "outputs": [
    {
     "name": "stdout",
     "output_type": "stream",
     "text": [
      "set([9, 2, 4])\n"
     ]
    }
   ],
   "source": [
    "print G.DFS(9)"
   ]
  },
  {
   "cell_type": "code",
   "execution_count": null,
   "metadata": {
    "collapsed": true
   },
   "outputs": [],
   "source": []
  }
 ],
 "metadata": {
  "kernelspec": {
   "display_name": "Python 2",
   "language": "python",
   "name": "python2"
  },
  "language_info": {
   "codemirror_mode": {
    "name": "ipython",
    "version": 2
   },
   "file_extension": ".py",
   "mimetype": "text/x-python",
   "name": "python",
   "nbconvert_exporter": "python",
   "pygments_lexer": "ipython2",
   "version": "2.7.9"
  }
 },
 "nbformat": 4,
 "nbformat_minor": 0
}
