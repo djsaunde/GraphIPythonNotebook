{
 "cells": [
  {
   "cell_type": "code",
   "execution_count": 7,
   "metadata": {
    "collapsed": false
   },
   "outputs": [],
   "source": [
    "import random"
   ]
  },
  {
   "cell_type": "markdown",
   "metadata": {},
   "source": [
    "#### We first need classes for representing edges and nodes."
   ]
  },
  {
   "cell_type": "code",
   "execution_count": 37,
   "metadata": {
    "collapsed": false
   },
   "outputs": [],
   "source": [
    "class Node: # a class for representing a node as a single unique integer\n",
    "    \n",
    "    def __init__(self, id):\n",
    "        self.id = id\n",
    "        \n",
    "    def __str__(self):\n",
    "        return str(self.id)\n",
    "        \n",
    "    def __eq__(self, other):\n",
    "        if type(other) == int:\n",
    "            other = Node(other)\n",
    "        return self.id == other.id\n",
    "        \n",
    "class Edge: # a class for representing an edge as a pair of nodes in a graph\n",
    "    \n",
    "    def __init__(self, n1, n2, weight=1):          # initializing the nodes in the edge class\n",
    "        self.n1 = n1\n",
    "        self.n2 = n2\n",
    "        self.weight = weight                       # the default argument for weight is 1 (call it the existence weight)\n",
    "        \n",
    "    def __str__(self):                             # turning the Edge object into a string\n",
    "        return '(' + str(self.n1) + ', ' + str(self.n2) + ')'\n",
    "        \n",
    "    def __eq__(self, other):                       # easy to implement equality method between two edges\n",
    "        return self.n1 == other.n1 and self.n2 == other.n2"
   ]
  },
  {
   "cell_type": "markdown",
   "metadata": {},
   "source": [
    "#### Below, we have classes for each of three different graph representations: as a list of edges, as a matrix of adjacency pairings, and as a list of adjacencies (each index maps to a set of adjacent nodes."
   ]
  },
  {
   "cell_type": "code",
   "execution_count": 38,
   "metadata": {
    "collapsed": false
   },
   "outputs": [],
   "source": [
    "class EdgeList(object): # a simple class for representing a graph as a list of edges\n",
    "    \n",
    "    def __init__(self):                # initialization of the EdgeList class\n",
    "        self.E = []                    # instantiate empty list to hold the edges\n",
    "     \n",
    "    def addEdge(self, edge):           # add an edge to the edge list\n",
    "        self.E.append(edge)\n",
    "        \n",
    "    def isEdge(self, edge):            # does this edge appear in the graph? this naive algorithm takes O(|E|) time\n",
    "        for e in self.E:               # cycle through all of the edges in the edge list\n",
    "            if e == edge:              # check for equality\n",
    "                return True\n",
    "        return False                   # if none of the edges match, it is not contained in the graph\n",
    "    \n",
    "    def getNeighbors(self, node):      # get all nodes adjacent to this node. this algorithm runs in O(|E|) time\n",
    "        neighbors = set()\n",
    "        for edge in self.E:                 # loop through all edges in edge list\n",
    "            if edge.n1 == node:             # if the edge contains the node as an endpoint\n",
    "                neighbors.update([edge.n2.id])     # add it to the set of neighbors\n",
    "            elif edge.n2 == node:\n",
    "                neighbors.update([edge.n1.id])\n",
    "        return neighbors\n",
    "            \n",
    "    def __str__(self):                 # turning an EdgeList object into a string\n",
    "        rep = '['\n",
    "        for edge in self.E[:-1]:\n",
    "            rep += edge.__str__() + ', '\n",
    "        return rep + self.E[-1].__str__() + ']'"
   ]
  },
  {
   "cell_type": "code",
   "execution_count": 164,
   "metadata": {
    "collapsed": false
   },
   "outputs": [],
   "source": [
    "class AdjacencyMatrix(object):                              # a simple class for representing a graph as a matrix of connection weights\n",
    "    \n",
    "    def __init__(self, V):                          # initialization of the AdjacencyMatrix class\n",
    "        self.matrix = [[0 for d in range(V)] for d in range(V)]\n",
    "        self.V = V                                  # keep track of the dimension of the matrix (number of nodes)\n",
    "        \n",
    "    def addEdge(self, edge):                        # add an edge to the adjacency matrix\n",
    "        self.matrix[edge.n1.id][edge.n2.id] = edge.weight\n",
    "        \n",
    "    def isEdge(self, edge):                         # does this edge appear in the graph? this algorithm takes 0(1) time\n",
    "        return self.matrix[edge.n1.id][edge.n2.id]  # test for non-zero\n",
    "    \n",
    "    def getNeighbors(self, node):                   # get all nodes adjacent to this node. this algorithm runs in O(|V|) time\n",
    "        neighbors = set()\n",
    "        for i in range(self.V):                          # for every node in the graph\n",
    "            if self.matrix[node][i]:                # test for non-zero neighboring entries\n",
    "                neighbors.update([i])                 # add the node to the graph if it is non-zero\n",
    "        return neighbors\n",
    "    \n",
    "    def __str__(self):                              # turning an AdjacencyMatrix object into a string\n",
    "        rep = ''\n",
    "        for row in self.matrix:\n",
    "            for entry in row:\n",
    "                rep += str(entry) + ' '\n",
    "            rep += '\\n'\n",
    "        return rep"
   ]
  },
  {
   "cell_type": "code",
   "execution_count": 256,
   "metadata": {
    "collapsed": false
   },
   "outputs": [],
   "source": [
    "class AdjacencyList(object):                                # a simple class for representing a graph as a list of adjancencies\n",
    "    \n",
    "    def __init__(self, V):                          # initialization of the AdjacencyList class\n",
    "        self.V = V\n",
    "        self.adj_list = dict((i, set()) for i in range(V))        \n",
    "        \n",
    "    def addEdge(self, edge):                        # add an edge to the adjacency list\n",
    "        self.adj_list[edge.n1.id].add(edge.n2.id)   \n",
    "        \n",
    "    def isEdge(self, edge):                         # does this edge appear in the graph? worst case, O(n) time, average case, O(1/|V|)\n",
    "        return edge.n2.id in self.adj_list[edge.n1.id]\n",
    "    \n",
    "    def getNeighbors(self, node):                   # get all nodes adjacent to this node. this algorithm runs in O(1) time\n",
    "        return self.adj_list[node]                  # simply return the set indexed by the passed in node index!\n",
    "    \n",
    "    def __str__(self):                              # turning an AdjacencyList object into a string\n",
    "        rep = ''\n",
    "        for i in range(self.V):\n",
    "            rep += str(i) + ': '\n",
    "            for j in self.adj_list[i][:-1]:\n",
    "                rep += j + ', '\n",
    "            rep += self.adj_list[i][-1]\n",
    "            rep += '\\n'"
   ]
  },
  {
   "cell_type": "markdown",
   "metadata": {},
   "source": [
    "#### Now, we need classes for both undirected and directed graph implementations."
   ]
  },
  {
   "cell_type": "code",
   "execution_count": 257,
   "metadata": {
    "collapsed": false
   },
   "outputs": [],
   "source": [
    "class Graph(object): # superclass for creating either a directed or undirected graph\n",
    "    \n",
    "    def __init__(self, representation, num_V, num_E, V=set(), E=set()):\n",
    "        self.V = V\n",
    "        self.E = E\n",
    "        \n",
    "        if representation == 'edge_list':\n",
    "            self.G = EdgeList()\n",
    "        elif representation == 'adjacency_matrix':\n",
    "            self.G = AdjacencyMatrix(num_V)\n",
    "        elif representation == 'adjacency_list':\n",
    "            self.G = AdjacencyList(num_V)\n",
    "            \n",
    "    def getNeighbors(self, node):                       # method to get neighbors of a node\n",
    "        neighbors = self.G.getNeighbors(node)\n",
    "        if neighbors != None:                                   # call underlying graph representation's implementation\n",
    "            return neighbors\n",
    "        return set()\n",
    "        \n",
    "    def DFS(self, start):                               # iterative depth-first search algorithm for undirected graphs\n",
    "        visited = set()                                 # we keep track of which nodes we've visited thus far. no duplicates allowed\n",
    "        stack = [start]                                 # we keep as a stack (implemented as a list) for the LIFO behavior this algorithm requires\n",
    "        while stack:                                    # while this list (stack) is non-empty\n",
    "            node = stack.pop()                          # we pop the topmost element of the list (LIFO)\n",
    "            if node not in visited:                     # if we haven't seen this node before\n",
    "                visited.add(node)                       # add it to the visited list\n",
    "                neighbors = self.getNeighbors(node)\n",
    "                if neighbors:\n",
    "                    stack.extend(self.getNeighbors(node).difference(visited))    # add all unvisited neighboring nodes to the list (stack) \n",
    "        return sorted(visited)                          # this returns the set of visited nodes after we have emptied the stack\n",
    "    \n",
    "    def recursiveDFS(self, start, visited=None):        # recursive depth-first search algorithm for undirected graphs\n",
    "        if visited == None:                             # circumventing a common Python error dealing with default values being created only once\n",
    "            visited = set()\n",
    "        visited.add(start)                              # add the starting node to the set of visited nodes\n",
    "        neighbors = self.getNeighbors(start)\n",
    "        if neighbors:\n",
    "            for neighbor in neighbors.difference(visited):  # for each neighbor of the starting node\n",
    "                self.recursiveDFS(neighbor, visited)        # treat each neighbor as a new starting node, and call the DFS routine again\n",
    "        return sorted(visited)                              # this returns all visited nodes after we have completed the last recursive call\n",
    "            \n",
    "\n",
    "class UndirectedGraph(Graph): # class for creating undirected graphs of 3 different possible representations\n",
    "\n",
    "    def __init__(self, representation, num_V, num_E, V=set(), E=set()):\n",
    "        Graph.__init__(self, representation, num_V, num_E, V=set(), E=set())\n",
    "        \n",
    "        if not V:                                           # if no edges, nodes were given in the constructor\n",
    "            # loop through |E| to randomly assign edges on the graph\n",
    "            for i in range(num_E):\n",
    "                n1, n2 = Node(random.randrange(0, num_V)), Node(random.randrange(0, num_V))    # randomly sample two vertices from [0, V-1]\n",
    "                if n1 == n2:                                # if they're equal, decrement the loop and try again\n",
    "                    i = i - 1                               # why? no self-directed edges (trivial)\n",
    "                    continue\n",
    "\n",
    "                edge1, edge2 = Edge(n1, n2), Edge(n2, n1)   # undirected graphs have only symmetric edges\n",
    "                if self.G.isEdge(edge1):                    # if the edge is already in the graph\n",
    "                    i = i - 1                               # we decrement the loop counter and try again\n",
    "                    continue\n",
    "                self.G.addEdge(edge1)                       # so we add both (n1, n2) and (n2, n1) to the representation\n",
    "                self.G.addEdge(edge2)\n",
    "        else:                                               # edges, nodes were given in the constructor\n",
    "            for edge in E:                                  # we loop through each edge \n",
    "                self.G.addEdge(edge)                        # and add the provided edge to the graph data structure\n",
    "            \n",
    "    def DFS(self, start):                                   # iterative depth-first search algorithm for undirected graphs\n",
    "        return super(UndirectedGraph, self).DFS(start)      # call superclass' method\n",
    "    \n",
    "    def recursiveDFS(self, start, visited=None):            # recursive depth-first search algorithm for undirected graphs\n",
    "        return super(UndirectedGraph, self).recursiveDFS(start, visited)  # call superclass' method\n",
    "    \n",
    "    def BFS(self, start):\n",
    "        pass\n",
    "    \n",
    "    def __str__(self):                                  # turn UndirectedGraph object into a string\n",
    "        return self.G.__str__()                         # call underlying representation's __str__ method"
   ]
  },
  {
   "cell_type": "code",
   "execution_count": 258,
   "metadata": {
    "collapsed": true
   },
   "outputs": [],
   "source": [
    "class DirectedGraph(Graph):\n",
    "    # a class for creating directed graphs of 3 different possible representations\n",
    "\n",
    "    def __init__(self, graph_type, num_V, num_E, V=set(), E=set()):\n",
    "        Graph.__init__(self, graph_type, num_V, num_E, V=set(), E=set())\n",
    "        \n",
    "        if not V:                                           # if no edges, nodes were given in the constructor\n",
    "            # loop through |E| to randomly assign edges on the graph\n",
    "            for i in range(num_E):\n",
    "                n1, n2 = Node(random.randrange(0, num_V)), Node(random.randrange(0, num_V))    # randomly sample two vertices from [0, V-1]\n",
    "                if n1 == n2:                                # if they're equal, decrement the loop and try again\n",
    "                    i = i - 1                               # why? no self-directed edges (trivial)\n",
    "                    continue\n",
    "\n",
    "                edge1 = Edge(n1, n2)                        # directed graphs do not necessarily have symmetric edges\n",
    "                if self.G.isEdge(edge1):                    # if the edge is already in the graph\n",
    "                    i = i - 1                               # we decrement the loop counter and try again\n",
    "                    continue\n",
    "                self.G.addEdge(edge1)                       # so we add both (n1, n2) and (n2, n1) to the representation\n",
    "        else:                                               # edges, nodes were given in the constructor\n",
    "            for edge in E:                                  # we loop through each edge \n",
    "                self.G.addEdge(edge)                        # and add the provided edge to the graph data structure\n",
    "        \n",
    "    def DFS(self, start):\n",
    "        return super(DirectedGraph, self).DFS(start)        # call superclass' method\n",
    "    \n",
    "    def BFS(self, start):\n",
    "        return super(DirectedGraph, self).recursiveDFS(start, visited)  # call superclass' method\n",
    "    \n",
    "    def __str__(self):                                      # turn DirectedGraph object into a string\n",
    "        return self.G.__str__()                             # call underlying representation's __str__ method"
   ]
  },
  {
   "cell_type": "code",
   "execution_count": 289,
   "metadata": {
    "collapsed": false
   },
   "outputs": [],
   "source": [
    "G = DirectedGraph('adjacency_list', 100, 250)"
   ]
  },
  {
   "cell_type": "code",
   "execution_count": 300,
   "metadata": {
    "collapsed": false
   },
   "outputs": [
    {
     "name": "stdout",
     "output_type": "stream",
     "text": [
      "[1, 1, 6, 25, 64, 78, 89, 92, 96, 98, 99, 99, 99, 99, 99, 99, 99, 99, 100]\n"
     ]
    }
   ],
   "source": [
    "connectivities = []\n",
    "num_trials = 50\n",
    "\n",
    "for i in [10, 50, 100, 150, 200, 250, 300, 350, 400, 450, 500, 550, 600, 650, 700, 750, 800, 850, 900]:\n",
    "    sum = 0\n",
    "    random_node = random.choice(range(100))\n",
    "    for j in range(num_trials):\n",
    "        G = DirectedGraph('adjacency_list', 100, i)\n",
    "        sum += len(G.recursiveDFS(random_node))\n",
    "    connectivities.append(sum / num_trials)\n",
    "    \n",
    "print connectivities"
   ]
  },
  {
   "cell_type": "code",
   "execution_count": null,
   "metadata": {
    "collapsed": true
   },
   "outputs": [],
   "source": []
  }
 ],
 "metadata": {
  "kernelspec": {
   "display_name": "Python 2",
   "language": "python",
   "name": "python2"
  },
  "language_info": {
   "codemirror_mode": {
    "name": "ipython",
    "version": 2
   },
   "file_extension": ".py",
   "mimetype": "text/x-python",
   "name": "python",
   "nbconvert_exporter": "python",
   "pygments_lexer": "ipython2",
   "version": "2.7.9"
  }
 },
 "nbformat": 4,
 "nbformat_minor": 0
}
